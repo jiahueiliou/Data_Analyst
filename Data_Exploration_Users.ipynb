{
 "cells": [
  {
   "cell_type": "markdown",
   "metadata": {},
   "source": [
    "## Users Dataset"
   ]
  },
  {
   "cell_type": "code",
   "execution_count": 1,
   "metadata": {},
   "outputs": [],
   "source": [
    "# Importing libraries\n",
    "import pandas as pd\n",
    "import numpy as np\n",
    "import matplotlib.pyplot as plt\n",
    "import datetime as dt"
   ]
  },
  {
   "cell_type": "code",
   "execution_count": 2,
   "metadata": {},
   "outputs": [
    {
     "data": {
      "text/html": [
       "<div>\n",
       "<style scoped>\n",
       "    .dataframe tbody tr th:only-of-type {\n",
       "        vertical-align: middle;\n",
       "    }\n",
       "\n",
       "    .dataframe tbody tr th {\n",
       "        vertical-align: top;\n",
       "    }\n",
       "\n",
       "    .dataframe thead th {\n",
       "        text-align: right;\n",
       "    }\n",
       "</style>\n",
       "<table border=\"1\" class=\"dataframe\">\n",
       "  <thead>\n",
       "    <tr style=\"text-align: right;\">\n",
       "      <th></th>\n",
       "      <th>ID</th>\n",
       "      <th>CREATED_DATE</th>\n",
       "      <th>BIRTH_DATE</th>\n",
       "      <th>STATE</th>\n",
       "      <th>LANGUAGE</th>\n",
       "      <th>GENDER</th>\n",
       "    </tr>\n",
       "  </thead>\n",
       "  <tbody>\n",
       "    <tr>\n",
       "      <th>0</th>\n",
       "      <td>5ef3b4f17053ab141787697d</td>\n",
       "      <td>2020-06-24 20:17:54.000 Z</td>\n",
       "      <td>2000-08-11 00:00:00.000 Z</td>\n",
       "      <td>CA</td>\n",
       "      <td>es-419</td>\n",
       "      <td>female</td>\n",
       "    </tr>\n",
       "    <tr>\n",
       "      <th>1</th>\n",
       "      <td>5ff220d383fcfc12622b96bc</td>\n",
       "      <td>2021-01-03 19:53:55.000 Z</td>\n",
       "      <td>2001-09-24 04:00:00.000 Z</td>\n",
       "      <td>PA</td>\n",
       "      <td>en</td>\n",
       "      <td>female</td>\n",
       "    </tr>\n",
       "    <tr>\n",
       "      <th>2</th>\n",
       "      <td>6477950aa55bb77a0e27ee10</td>\n",
       "      <td>2023-05-31 18:42:18.000 Z</td>\n",
       "      <td>1994-10-28 00:00:00.000 Z</td>\n",
       "      <td>FL</td>\n",
       "      <td>es-419</td>\n",
       "      <td>female</td>\n",
       "    </tr>\n",
       "    <tr>\n",
       "      <th>3</th>\n",
       "      <td>658a306e99b40f103b63ccf8</td>\n",
       "      <td>2023-12-26 01:46:22.000 Z</td>\n",
       "      <td>NaN</td>\n",
       "      <td>NC</td>\n",
       "      <td>en</td>\n",
       "      <td>NaN</td>\n",
       "    </tr>\n",
       "    <tr>\n",
       "      <th>4</th>\n",
       "      <td>653cf5d6a225ea102b7ecdc2</td>\n",
       "      <td>2023-10-28 11:51:50.000 Z</td>\n",
       "      <td>1972-03-19 00:00:00.000 Z</td>\n",
       "      <td>PA</td>\n",
       "      <td>en</td>\n",
       "      <td>female</td>\n",
       "    </tr>\n",
       "  </tbody>\n",
       "</table>\n",
       "</div>"
      ],
      "text/plain": [
       "                         ID               CREATED_DATE  \\\n",
       "0  5ef3b4f17053ab141787697d  2020-06-24 20:17:54.000 Z   \n",
       "1  5ff220d383fcfc12622b96bc  2021-01-03 19:53:55.000 Z   \n",
       "2  6477950aa55bb77a0e27ee10  2023-05-31 18:42:18.000 Z   \n",
       "3  658a306e99b40f103b63ccf8  2023-12-26 01:46:22.000 Z   \n",
       "4  653cf5d6a225ea102b7ecdc2  2023-10-28 11:51:50.000 Z   \n",
       "\n",
       "                  BIRTH_DATE STATE LANGUAGE  GENDER  \n",
       "0  2000-08-11 00:00:00.000 Z    CA   es-419  female  \n",
       "1  2001-09-24 04:00:00.000 Z    PA       en  female  \n",
       "2  1994-10-28 00:00:00.000 Z    FL   es-419  female  \n",
       "3                        NaN    NC       en     NaN  \n",
       "4  1972-03-19 00:00:00.000 Z    PA       en  female  "
      ]
     },
     "execution_count": 2,
     "metadata": {},
     "output_type": "execute_result"
    }
   ],
   "source": [
    "# Load the users dataset\n",
    "users = pd.read_csv(\"USER_TAKEHOME.csv\")\n",
    "users.head()"
   ]
  },
  {
   "cell_type": "code",
   "execution_count": 3,
   "metadata": {},
   "outputs": [
    {
     "name": "stdout",
     "output_type": "stream",
     "text": [
      "users data shape:  (100000, 6)\n",
      "<class 'pandas.core.frame.DataFrame'>\n",
      "RangeIndex: 100000 entries, 0 to 99999\n",
      "Data columns (total 6 columns):\n",
      " #   Column        Non-Null Count   Dtype \n",
      "---  ------        --------------   ----- \n",
      " 0   ID            100000 non-null  object\n",
      " 1   CREATED_DATE  100000 non-null  object\n",
      " 2   BIRTH_DATE    96325 non-null   object\n",
      " 3   STATE         95188 non-null   object\n",
      " 4   LANGUAGE      69492 non-null   object\n",
      " 5   GENDER        94108 non-null   object\n",
      "dtypes: object(6)\n",
      "memory usage: 4.6+ MB\n",
      "None\n",
      "---------------------------------------------------------------\n",
      "               count  unique                        top   freq\n",
      "ID            100000  100000   5ef3b4f17053ab141787697d      1\n",
      "CREATED_DATE  100000   99942  2023-01-12 18:30:15.000 Z      2\n",
      "BIRTH_DATE     96325   54721  1970-01-01 00:00:00.000 Z   1272\n",
      "STATE          95188      52                         TX   9028\n",
      "LANGUAGE       69492       2                         en  63403\n",
      "GENDER         94108      11                     female  64240\n"
     ]
    }
   ],
   "source": [
    "# Check the data shape and info\n",
    "print('users data shape: ', users.shape)\n",
    "print(users.info())\n",
    "print(\"---------------------------------------------------------------\")\n",
    "print(users.describe(include='all').transpose())"
   ]
  },
  {
   "cell_type": "code",
   "execution_count": 4,
   "metadata": {},
   "outputs": [],
   "source": [
    "# Data types transforming: CREATED_DATE and BIRTH_DATE columns, transforming to datetime\n",
    "users['CREATED_DATE'] = pd.to_datetime(users['CREATED_DATE']).dt.tz_convert(None)\n",
    "users['BIRTH_DATE'] = pd.to_datetime(users['BIRTH_DATE']).dt.tz_convert(None)"
   ]
  },
  {
   "cell_type": "code",
   "execution_count": 5,
   "metadata": {},
   "outputs": [
    {
     "data": {
      "text/plain": [
       "0"
      ]
     },
     "execution_count": 5,
     "metadata": {},
     "output_type": "execute_result"
    }
   ],
   "source": [
    "# Check duplicates\n",
    "users.duplicated().sum()"
   ]
  },
  {
   "cell_type": "code",
   "execution_count": 6,
   "metadata": {},
   "outputs": [
    {
     "data": {
      "text/html": [
       "<div>\n",
       "<style scoped>\n",
       "    .dataframe tbody tr th:only-of-type {\n",
       "        vertical-align: middle;\n",
       "    }\n",
       "\n",
       "    .dataframe tbody tr th {\n",
       "        vertical-align: top;\n",
       "    }\n",
       "\n",
       "    .dataframe thead th {\n",
       "        text-align: right;\n",
       "    }\n",
       "</style>\n",
       "<table border=\"1\" class=\"dataframe\">\n",
       "  <thead>\n",
       "    <tr style=\"text-align: right;\">\n",
       "      <th></th>\n",
       "      <th>count</th>\n",
       "      <th>missing</th>\n",
       "      <th>% pop</th>\n",
       "    </tr>\n",
       "  </thead>\n",
       "  <tbody>\n",
       "    <tr>\n",
       "      <th>ID</th>\n",
       "      <td>100000</td>\n",
       "      <td>0</td>\n",
       "      <td>1.00000</td>\n",
       "    </tr>\n",
       "    <tr>\n",
       "      <th>CREATED_DATE</th>\n",
       "      <td>100000</td>\n",
       "      <td>0</td>\n",
       "      <td>1.00000</td>\n",
       "    </tr>\n",
       "    <tr>\n",
       "      <th>BIRTH_DATE</th>\n",
       "      <td>96325</td>\n",
       "      <td>3675</td>\n",
       "      <td>0.96325</td>\n",
       "    </tr>\n",
       "    <tr>\n",
       "      <th>STATE</th>\n",
       "      <td>95188</td>\n",
       "      <td>4812</td>\n",
       "      <td>0.95188</td>\n",
       "    </tr>\n",
       "    <tr>\n",
       "      <th>LANGUAGE</th>\n",
       "      <td>69492</td>\n",
       "      <td>30508</td>\n",
       "      <td>0.69492</td>\n",
       "    </tr>\n",
       "    <tr>\n",
       "      <th>GENDER</th>\n",
       "      <td>94108</td>\n",
       "      <td>5892</td>\n",
       "      <td>0.94108</td>\n",
       "    </tr>\n",
       "  </tbody>\n",
       "</table>\n",
       "</div>"
      ],
      "text/plain": [
       "               count  missing    % pop\n",
       "ID            100000        0  1.00000\n",
       "CREATED_DATE  100000        0  1.00000\n",
       "BIRTH_DATE     96325     3675  0.96325\n",
       "STATE          95188     4812  0.95188\n",
       "LANGUAGE       69492    30508  0.69492\n",
       "GENDER         94108     5892  0.94108"
      ]
     },
     "execution_count": 6,
     "metadata": {},
     "output_type": "execute_result"
    }
   ],
   "source": [
    "# Check the missing data and % population of each column\n",
    "users_stats = pd.DataFrame(users.count(), columns=['count'])\n",
    "users_stats['missing'] = users.isnull().sum()\n",
    "users_stats['% pop'] = 1 - users_stats['missing'] / users.shape[0]\n",
    "users_stats"
   ]
  },
  {
   "cell_type": "markdown",
   "metadata": {},
   "source": [
    "The Users dataframe does not contain any duplicated rows. However, there are missing values in the following columns:\n",
    "\n",
    "- `LANGUAGE`: 30.5% missing values\n",
    "- `GENDER`: 5.9% missing values\n",
    "- `STATE`: 4.8% missing values\n",
    "- `BIRTH_DATE`: 3.7% missing values"
   ]
  },
  {
   "cell_type": "code",
   "execution_count": 7,
   "metadata": {},
   "outputs": [],
   "source": [
    "# Create the age column to check gaps or irregularities in time\n",
    "users[\"AGE\"] = (users[\"CREATED_DATE\"] - users[\"BIRTH_DATE\"]).dt.days // 365"
   ]
  },
  {
   "cell_type": "code",
   "execution_count": 8,
   "metadata": {},
   "outputs": [],
   "source": [
    "# Separate the columns into numeric and categorical\n",
    "numeric = [\"CREATED_DATE\", \"BIRTH_DATE\", \"AGE\"]\n",
    "categorical = [\"ID\", \"STATE\", \"LANGUAGE\", \"GENDER\"]"
   ]
  },
  {
   "cell_type": "code",
   "execution_count": 9,
   "metadata": {},
   "outputs": [
    {
     "data": {
      "image/png": "[encoded data removed]",
      "text/plain": [
       "<Figure size 640x480 with 1 Axes>"
      ]
     },
     "metadata": {},
     "output_type": "display_data"
    },
    {
     "data": {
      "image/png": "[encoded data removed]",
      "text/plain": [
       "<Figure size 640x480 with 1 Axes>"
      ]
     },
     "metadata": {},
     "output_type": "display_data"
    },
    {
     "data": {
      "image/png": "[encoded data removed]",
      "text/plain": [
       "<Figure size 640x480 with 1 Axes>"
      ]
     },
     "metadata": {},
     "output_type": "display_data"
    }
   ],
   "source": [
    "# Plot numeric distributions\n",
    "for col in numeric:\n",
    "    plt.hist(users[col],bins=400)\n",
    "    plt.xlabel(col)\n",
    "    plt.ylabel('Density')\n",
    "    plt.title(col)\n",
    "    plt.show()"
   ]
  },
  {
   "cell_type": "markdown",
   "metadata": {},
   "source": [
    "The `BIRTH_DATE` and `AGE` columns exhibit unusual peaks around the year 1970 and the age of 40, respectively. It is needed a deeper investigation into these columns to understand the cause."
   ]
  },
  {
   "cell_type": "markdown",
   "metadata": {},
   "source": [
    "#### `BIRTH_DATE` column"
   ]
  },
  {
   "cell_type": "code",
   "execution_count": 9,
   "metadata": {},
   "outputs": [
    {
     "name": "stdout",
     "output_type": "stream",
     "text": [
      "count                            96325\n",
      "mean     1984-09-02 02:39:04.710417920\n",
      "min                1900-01-01 00:00:00\n",
      "25%                1974-03-04 00:00:00\n",
      "50%                1985-10-25 00:00:00\n",
      "75%                1998-02-02 05:00:00\n",
      "max                2022-04-03 07:00:00\n",
      "Name: BIRTH_DATE, dtype: object\n"
     ]
    },
    {
     "data": {
      "text/plain": [
       "BIRTH_DATE\n",
       "NaT                    3675\n",
       "1970-01-01 00:00:00    1272\n",
       "1979-12-11 08:00:00      63\n",
       "2000-12-12 00:00:00      28\n",
       "2000-12-31 00:00:00      23\n",
       "                       ... \n",
       "2004-02-21 08:00:00       1\n",
       "1956-02-09 05:00:00       1\n",
       "1974-07-13 00:00:00       1\n",
       "1991-05-23 04:00:00       1\n",
       "1995-06-09 04:00:00       1\n",
       "Name: count, Length: 54722, dtype: int64"
      ]
     },
     "execution_count": 9,
     "metadata": {},
     "output_type": "execute_result"
    }
   ],
   "source": [
    "# Check the BIRTH_DATE column distribution\n",
    "print(users[\"BIRTH_DATE\"].describe())\n",
    "users[\"BIRTH_DATE\"].value_counts(dropna=False)"
   ]
  },
  {
   "cell_type": "code",
   "execution_count": 10,
   "metadata": {},
   "outputs": [
    {
     "data": {
      "text/html": [
       "<div>\n",
       "<style scoped>\n",
       "    .dataframe tbody tr th:only-of-type {\n",
       "        vertical-align: middle;\n",
       "    }\n",
       "\n",
       "    .dataframe tbody tr th {\n",
       "        vertical-align: top;\n",
       "    }\n",
       "\n",
       "    .dataframe thead th {\n",
       "        text-align: right;\n",
       "    }\n",
       "</style>\n",
       "<table border=\"1\" class=\"dataframe\">\n",
       "  <thead>\n",
       "    <tr style=\"text-align: right;\">\n",
       "      <th></th>\n",
       "      <th>ID</th>\n",
       "      <th>CREATED_DATE</th>\n",
       "      <th>BIRTH_DATE</th>\n",
       "      <th>STATE</th>\n",
       "      <th>LANGUAGE</th>\n",
       "      <th>GENDER</th>\n",
       "      <th>AGE</th>\n",
       "    </tr>\n",
       "  </thead>\n",
       "  <tbody>\n",
       "    <tr>\n",
       "      <th>1</th>\n",
       "      <td>5ff220d383fcfc12622b96bc</td>\n",
       "      <td>2021-01-03 19:53:55</td>\n",
       "      <td>2001-09-24 04:00:00</td>\n",
       "      <td>PA</td>\n",
       "      <td>en</td>\n",
       "      <td>female</td>\n",
       "      <td>19.0</td>\n",
       "    </tr>\n",
       "    <tr>\n",
       "      <th>5</th>\n",
       "      <td>5fe2b6f3ad416a1265c4ab68</td>\n",
       "      <td>2020-12-23 03:18:11</td>\n",
       "      <td>1999-10-27 04:00:00</td>\n",
       "      <td>NY</td>\n",
       "      <td>en</td>\n",
       "      <td>female</td>\n",
       "      <td>21.0</td>\n",
       "    </tr>\n",
       "    <tr>\n",
       "      <th>6</th>\n",
       "      <td>651210546816bb4d035b1ead</td>\n",
       "      <td>2023-09-25 22:57:24</td>\n",
       "      <td>1983-09-25 22:57:25</td>\n",
       "      <td>FL</td>\n",
       "      <td>es-419</td>\n",
       "      <td>male</td>\n",
       "      <td>40.0</td>\n",
       "    </tr>\n",
       "    <tr>\n",
       "      <th>7</th>\n",
       "      <td>642831ea3d4434e63c1936fd</td>\n",
       "      <td>2023-04-01 13:30:18</td>\n",
       "      <td>1970-02-16 05:00:00</td>\n",
       "      <td>IN</td>\n",
       "      <td>en</td>\n",
       "      <td>female</td>\n",
       "      <td>53.0</td>\n",
       "    </tr>\n",
       "    <tr>\n",
       "      <th>8</th>\n",
       "      <td>63a4c9a1b5f32149b9d82f9e</td>\n",
       "      <td>2022-12-22 21:18:25</td>\n",
       "      <td>1982-12-22 05:00:00</td>\n",
       "      <td>NC</td>\n",
       "      <td>en</td>\n",
       "      <td>female</td>\n",
       "      <td>40.0</td>\n",
       "    </tr>\n",
       "    <tr>\n",
       "      <th>...</th>\n",
       "      <td>...</td>\n",
       "      <td>...</td>\n",
       "      <td>...</td>\n",
       "      <td>...</td>\n",
       "      <td>...</td>\n",
       "      <td>...</td>\n",
       "      <td>...</td>\n",
       "    </tr>\n",
       "    <tr>\n",
       "      <th>99994</th>\n",
       "      <td>6003677484d55512b4046f64</td>\n",
       "      <td>2021-01-16 22:23:48</td>\n",
       "      <td>1992-02-14 05:00:00</td>\n",
       "      <td>PA</td>\n",
       "      <td>NaN</td>\n",
       "      <td>transgender</td>\n",
       "      <td>28.0</td>\n",
       "    </tr>\n",
       "    <tr>\n",
       "      <th>99995</th>\n",
       "      <td>61fc06d41febf771966da8fa</td>\n",
       "      <td>2022-02-03 16:46:12</td>\n",
       "      <td>1992-03-16 08:00:00</td>\n",
       "      <td>CA</td>\n",
       "      <td>en</td>\n",
       "      <td>female</td>\n",
       "      <td>29.0</td>\n",
       "    </tr>\n",
       "    <tr>\n",
       "      <th>99996</th>\n",
       "      <td>6391e7ef90ad5449ec5f782d</td>\n",
       "      <td>2022-12-08 13:34:39</td>\n",
       "      <td>1993-09-23 05:00:00</td>\n",
       "      <td>MO</td>\n",
       "      <td>en</td>\n",
       "      <td>female</td>\n",
       "      <td>29.0</td>\n",
       "    </tr>\n",
       "    <tr>\n",
       "      <th>99998</th>\n",
       "      <td>5f0de23b05d8a6147dc0cafa</td>\n",
       "      <td>2020-07-14 16:50:04</td>\n",
       "      <td>1995-06-09 04:00:00</td>\n",
       "      <td>DE</td>\n",
       "      <td>en</td>\n",
       "      <td>female</td>\n",
       "      <td>25.0</td>\n",
       "    </tr>\n",
       "    <tr>\n",
       "      <th>99999</th>\n",
       "      <td>5e7ab436905e9512ff44abc8</td>\n",
       "      <td>2020-03-25 01:30:30</td>\n",
       "      <td>1995-12-15 05:00:00</td>\n",
       "      <td>VA</td>\n",
       "      <td>NaN</td>\n",
       "      <td>female</td>\n",
       "      <td>24.0</td>\n",
       "    </tr>\n",
       "  </tbody>\n",
       "</table>\n",
       "<p>59626 rows × 7 columns</p>\n",
       "</div>"
      ],
      "text/plain": [
       "                             ID        CREATED_DATE          BIRTH_DATE STATE  \\\n",
       "1      5ff220d383fcfc12622b96bc 2021-01-03 19:53:55 2001-09-24 04:00:00    PA   \n",
       "5      5fe2b6f3ad416a1265c4ab68 2020-12-23 03:18:11 1999-10-27 04:00:00    NY   \n",
       "6      651210546816bb4d035b1ead 2023-09-25 22:57:24 1983-09-25 22:57:25    FL   \n",
       "7      642831ea3d4434e63c1936fd 2023-04-01 13:30:18 1970-02-16 05:00:00    IN   \n",
       "8      63a4c9a1b5f32149b9d82f9e 2022-12-22 21:18:25 1982-12-22 05:00:00    NC   \n",
       "...                         ...                 ...                 ...   ...   \n",
       "99994  6003677484d55512b4046f64 2021-01-16 22:23:48 1992-02-14 05:00:00    PA   \n",
       "99995  61fc06d41febf771966da8fa 2022-02-03 16:46:12 1992-03-16 08:00:00    CA   \n",
       "99996  6391e7ef90ad5449ec5f782d 2022-12-08 13:34:39 1993-09-23 05:00:00    MO   \n",
       "99998  5f0de23b05d8a6147dc0cafa 2020-07-14 16:50:04 1995-06-09 04:00:00    DE   \n",
       "99999  5e7ab436905e9512ff44abc8 2020-03-25 01:30:30 1995-12-15 05:00:00    VA   \n",
       "\n",
       "      LANGUAGE       GENDER   AGE  \n",
       "1           en       female  19.0  \n",
       "5           en       female  21.0  \n",
       "6       es-419         male  40.0  \n",
       "7           en       female  53.0  \n",
       "8           en       female  40.0  \n",
       "...        ...          ...   ...  \n",
       "99994      NaN  transgender  28.0  \n",
       "99995       en       female  29.0  \n",
       "99996       en       female  29.0  \n",
       "99998       en       female  25.0  \n",
       "99999      NaN       female  24.0  \n",
       "\n",
       "[59626 rows x 7 columns]"
      ]
     },
     "execution_count": 10,
     "metadata": {},
     "output_type": "execute_result"
    }
   ],
   "source": [
    "# There are some BIRTH_DATE has value in hours, minutes or seconds, which might be incorrect. Check those values\n",
    "birthdate_withtime = users[((users[\"BIRTH_DATE\"].dt.hour != 0) | (users[\"BIRTH_DATE\"].dt.minute != 0) | (users[\"BIRTH_DATE\"].dt.second != 0)) & (users[\"BIRTH_DATE\"].notnull())]\n",
    "birthdate_withtime"
   ]
  },
  {
   "cell_type": "code",
   "execution_count": 11,
   "metadata": {},
   "outputs": [
    {
     "data": {
      "text/plain": [
       "0.6190085647547365"
      ]
     },
     "execution_count": 11,
     "metadata": {},
     "output_type": "execute_result"
    }
   ],
   "source": [
    "# Calculate the % of BIRTH_DATE with hours, minutes or seconds\n",
    "birthdate_withtime.shape[0]/(users[\"BIRTH_DATE\"].count())"
   ]
  },
  {
   "cell_type": "markdown",
   "metadata": {},
   "source": [
    "There are 1,272 users with the birth date 1970-01-01, which is the epoch date in Unix time. This is likely a default value used for the `BIRTH_DATE` input field when no valid data is provided. **I recommend replacing these default values with `NaN` to reflect missing or unknown data.**\n",
    "\n",
    "Additionally, over 60% of the `BIRTH_DATE` entries include time values (hours, minutes, and seconds), even though the app's registration form allows users to input only the year, month, and day. This discrepancy suggests a potential issue with the data collection or processing pipeline. **I recommend seeking clarification from the data provider to understand the root cause of this anomaly. For data cleaning, I suggest truncating the time component of the date to retain only the year, month, and day for consistency.**"
   ]
  },
  {
   "cell_type": "markdown",
   "metadata": {},
   "source": [
    "### `AGE` column"
   ]
  },
  {
   "cell_type": "code",
   "execution_count": 12,
   "metadata": {},
   "outputs": [
    {
     "name": "stdout",
     "output_type": "stream",
     "text": [
      "count    96325.000000\n",
      "mean        36.822133\n",
      "std         15.180904\n",
      "min         -1.000000\n",
      "25%         23.000000\n",
      "50%         36.000000\n",
      "75%         47.000000\n",
      "max        121.000000\n",
      "Name: AGE, dtype: float64\n"
     ]
    },
    {
     "data": {
      "text/plain": [
       "AGE\n",
       "40.0     5721\n",
       "NaN      3675\n",
       "21.0     3489\n",
       "22.0     3476\n",
       "20.0     3311\n",
       "         ... \n",
       "121.0       1\n",
       "1.0         1\n",
       "100.0       1\n",
       "108.0       1\n",
       "106.0       1\n",
       "Name: count, Length: 119, dtype: int64"
      ]
     },
     "execution_count": 12,
     "metadata": {},
     "output_type": "execute_result"
    }
   ],
   "source": [
    "# Check the AGE column distribution\n",
    "print(users[\"AGE\"].describe())\n",
    "users[\"AGE\"].value_counts(dropna=False)"
   ]
  },
  {
   "cell_type": "code",
   "execution_count": 13,
   "metadata": {},
   "outputs": [
    {
     "data": {
      "text/html": [
       "<div>\n",
       "<style scoped>\n",
       "    .dataframe tbody tr th:only-of-type {\n",
       "        vertical-align: middle;\n",
       "    }\n",
       "\n",
       "    .dataframe tbody tr th {\n",
       "        vertical-align: top;\n",
       "    }\n",
       "\n",
       "    .dataframe thead th {\n",
       "        text-align: right;\n",
       "    }\n",
       "</style>\n",
       "<table border=\"1\" class=\"dataframe\">\n",
       "  <thead>\n",
       "    <tr style=\"text-align: right;\">\n",
       "      <th></th>\n",
       "      <th>ID</th>\n",
       "      <th>CREATED_DATE</th>\n",
       "      <th>BIRTH_DATE</th>\n",
       "      <th>STATE</th>\n",
       "      <th>LANGUAGE</th>\n",
       "      <th>GENDER</th>\n",
       "      <th>AGE</th>\n",
       "    </tr>\n",
       "  </thead>\n",
       "  <tbody>\n",
       "    <tr>\n",
       "      <th>41974</th>\n",
       "      <td>5f31fc048fa1e914d38d6952</td>\n",
       "      <td>2020-08-11 02:01:41</td>\n",
       "      <td>2020-10-02 15:27:28</td>\n",
       "      <td>CA</td>\n",
       "      <td>NaN</td>\n",
       "      <td>NaN</td>\n",
       "      <td>-1.0</td>\n",
       "    </tr>\n",
       "  </tbody>\n",
       "</table>\n",
       "</div>"
      ],
      "text/plain": [
       "                             ID        CREATED_DATE          BIRTH_DATE STATE  \\\n",
       "41974  5f31fc048fa1e914d38d6952 2020-08-11 02:01:41 2020-10-02 15:27:28    CA   \n",
       "\n",
       "      LANGUAGE GENDER  AGE  \n",
       "41974      NaN    NaN -1.0  "
      ]
     },
     "execution_count": 13,
     "metadata": {},
     "output_type": "execute_result"
    }
   ],
   "source": [
    "# The minimum value of AGE is negative, which is not possible. Check when CREATED_DATE is before BIRTH_DATE\n",
    "users[users[\"CREATED_DATE\"] < users[\"BIRTH_DATE\"]]"
   ]
  },
  {
   "cell_type": "code",
   "execution_count": 14,
   "metadata": {},
   "outputs": [
    {
     "data": {
      "text/html": [
       "<div>\n",
       "<style scoped>\n",
       "    .dataframe tbody tr th:only-of-type {\n",
       "        vertical-align: middle;\n",
       "    }\n",
       "\n",
       "    .dataframe tbody tr th {\n",
       "        vertical-align: top;\n",
       "    }\n",
       "\n",
       "    .dataframe thead th {\n",
       "        text-align: right;\n",
       "    }\n",
       "</style>\n",
       "<table border=\"1\" class=\"dataframe\">\n",
       "  <thead>\n",
       "    <tr style=\"text-align: right;\">\n",
       "      <th></th>\n",
       "      <th>ID</th>\n",
       "      <th>CREATED_DATE</th>\n",
       "      <th>BIRTH_DATE</th>\n",
       "      <th>STATE</th>\n",
       "      <th>LANGUAGE</th>\n",
       "      <th>GENDER</th>\n",
       "      <th>AGE</th>\n",
       "    </tr>\n",
       "  </thead>\n",
       "  <tbody>\n",
       "    <tr>\n",
       "      <th>3656</th>\n",
       "      <td>62be5974baa38d1a1f6b6725</td>\n",
       "      <td>2022-07-01 02:18:28</td>\n",
       "      <td>1903-01-01 05:00:00</td>\n",
       "      <td>PA</td>\n",
       "      <td>en</td>\n",
       "      <td>male</td>\n",
       "      <td>119.0</td>\n",
       "    </tr>\n",
       "    <tr>\n",
       "      <th>5878</th>\n",
       "      <td>60ac6acc79ed9200a6ebc24a</td>\n",
       "      <td>2021-05-25 03:11:08</td>\n",
       "      <td>1901-05-25 00:00:00</td>\n",
       "      <td>UT</td>\n",
       "      <td>NaN</td>\n",
       "      <td>female</td>\n",
       "      <td>120.0</td>\n",
       "    </tr>\n",
       "    <tr>\n",
       "      <th>6499</th>\n",
       "      <td>60a6e4af3369535cb6c4c89d</td>\n",
       "      <td>2021-05-20 22:37:35</td>\n",
       "      <td>1901-10-13 00:00:00</td>\n",
       "      <td>CA</td>\n",
       "      <td>NaN</td>\n",
       "      <td>male</td>\n",
       "      <td>119.0</td>\n",
       "    </tr>\n",
       "    <tr>\n",
       "      <th>11146</th>\n",
       "      <td>608601a7b14c7f309d219fc6</td>\n",
       "      <td>2021-04-25 23:56:23</td>\n",
       "      <td>1904-10-28 19:56:38</td>\n",
       "      <td>FL</td>\n",
       "      <td>es-419</td>\n",
       "      <td>female</td>\n",
       "      <td>116.0</td>\n",
       "    </tr>\n",
       "    <tr>\n",
       "      <th>14270</th>\n",
       "      <td>59bc4fd3e4b03f96c479b7e6</td>\n",
       "      <td>2017-09-15 22:10:27</td>\n",
       "      <td>1905-07-28 00:00:00</td>\n",
       "      <td>CA</td>\n",
       "      <td>en</td>\n",
       "      <td>female</td>\n",
       "      <td>112.0</td>\n",
       "    </tr>\n",
       "  </tbody>\n",
       "</table>\n",
       "</div>"
      ],
      "text/plain": [
       "                             ID        CREATED_DATE          BIRTH_DATE STATE  \\\n",
       "3656   62be5974baa38d1a1f6b6725 2022-07-01 02:18:28 1903-01-01 05:00:00    PA   \n",
       "5878   60ac6acc79ed9200a6ebc24a 2021-05-25 03:11:08 1901-05-25 00:00:00    UT   \n",
       "6499   60a6e4af3369535cb6c4c89d 2021-05-20 22:37:35 1901-10-13 00:00:00    CA   \n",
       "11146  608601a7b14c7f309d219fc6 2021-04-25 23:56:23 1904-10-28 19:56:38    FL   \n",
       "14270  59bc4fd3e4b03f96c479b7e6 2017-09-15 22:10:27 1905-07-28 00:00:00    CA   \n",
       "\n",
       "      LANGUAGE  GENDER    AGE  \n",
       "3656        en    male  119.0  \n",
       "5878       NaN  female  120.0  \n",
       "6499       NaN    male  119.0  \n",
       "11146   es-419  female  116.0  \n",
       "14270       en  female  112.0  "
      ]
     },
     "execution_count": 14,
     "metadata": {},
     "output_type": "execute_result"
    }
   ],
   "source": [
    "# Check when age is > 100 (unusually high values)\n",
    "users[users[\"AGE\"] > 100].head()"
   ]
  },
  {
   "cell_type": "code",
   "execution_count": 15,
   "metadata": {},
   "outputs": [
    {
     "data": {
      "text/html": [
       "<div>\n",
       "<style scoped>\n",
       "    .dataframe tbody tr th:only-of-type {\n",
       "        vertical-align: middle;\n",
       "    }\n",
       "\n",
       "    .dataframe tbody tr th {\n",
       "        vertical-align: top;\n",
       "    }\n",
       "\n",
       "    .dataframe thead th {\n",
       "        text-align: right;\n",
       "    }\n",
       "</style>\n",
       "<table border=\"1\" class=\"dataframe\">\n",
       "  <thead>\n",
       "    <tr style=\"text-align: right;\">\n",
       "      <th></th>\n",
       "      <th>ID</th>\n",
       "      <th>CREATED_DATE</th>\n",
       "      <th>BIRTH_DATE</th>\n",
       "      <th>STATE</th>\n",
       "      <th>LANGUAGE</th>\n",
       "      <th>GENDER</th>\n",
       "      <th>AGE</th>\n",
       "    </tr>\n",
       "  </thead>\n",
       "  <tbody>\n",
       "    <tr>\n",
       "      <th>2683</th>\n",
       "      <td>5fe2531a21684312580cb7d6</td>\n",
       "      <td>2020-12-22 20:12:10</td>\n",
       "      <td>2012-08-17 04:00:00</td>\n",
       "      <td>RI</td>\n",
       "      <td>NaN</td>\n",
       "      <td>male</td>\n",
       "      <td>8.0</td>\n",
       "    </tr>\n",
       "    <tr>\n",
       "      <th>8082</th>\n",
       "      <td>623e436fba45a13bb6518e62</td>\n",
       "      <td>2022-03-25 22:34:23</td>\n",
       "      <td>2012-07-14 04:00:00</td>\n",
       "      <td>PR</td>\n",
       "      <td>NaN</td>\n",
       "      <td>transgender</td>\n",
       "      <td>9.0</td>\n",
       "    </tr>\n",
       "    <tr>\n",
       "      <th>8204</th>\n",
       "      <td>5f0cee2074f3631470f1b942</td>\n",
       "      <td>2020-07-13 23:28:33</td>\n",
       "      <td>2015-07-13 04:00:00</td>\n",
       "      <td>KS</td>\n",
       "      <td>NaN</td>\n",
       "      <td>female</td>\n",
       "      <td>5.0</td>\n",
       "    </tr>\n",
       "    <tr>\n",
       "      <th>8866</th>\n",
       "      <td>6118be8750701854c8fd5a55</td>\n",
       "      <td>2021-08-15 07:13:11</td>\n",
       "      <td>2011-12-03 07:00:00</td>\n",
       "      <td>NV</td>\n",
       "      <td>NaN</td>\n",
       "      <td>female</td>\n",
       "      <td>9.0</td>\n",
       "    </tr>\n",
       "    <tr>\n",
       "      <th>10120</th>\n",
       "      <td>608e29c1ecd21937571e0d84</td>\n",
       "      <td>2021-05-02 04:25:37</td>\n",
       "      <td>2014-10-27 07:00:00</td>\n",
       "      <td>CA</td>\n",
       "      <td>NaN</td>\n",
       "      <td>female</td>\n",
       "      <td>6.0</td>\n",
       "    </tr>\n",
       "  </tbody>\n",
       "</table>\n",
       "</div>"
      ],
      "text/plain": [
       "                             ID        CREATED_DATE          BIRTH_DATE STATE  \\\n",
       "2683   5fe2531a21684312580cb7d6 2020-12-22 20:12:10 2012-08-17 04:00:00    RI   \n",
       "8082   623e436fba45a13bb6518e62 2022-03-25 22:34:23 2012-07-14 04:00:00    PR   \n",
       "8204   5f0cee2074f3631470f1b942 2020-07-13 23:28:33 2015-07-13 04:00:00    KS   \n",
       "8866   6118be8750701854c8fd5a55 2021-08-15 07:13:11 2011-12-03 07:00:00    NV   \n",
       "10120  608e29c1ecd21937571e0d84 2021-05-02 04:25:37 2014-10-27 07:00:00    CA   \n",
       "\n",
       "      LANGUAGE       GENDER  AGE  \n",
       "2683       NaN         male  8.0  \n",
       "8082       NaN  transgender  9.0  \n",
       "8204       NaN       female  5.0  \n",
       "8866       NaN       female  9.0  \n",
       "10120      NaN       female  6.0  "
      ]
     },
     "execution_count": 15,
     "metadata": {},
     "output_type": "execute_result"
    }
   ],
   "source": [
    "# Check when age is < 10 (unusually low values)\n",
    "users[users[\"AGE\"] < 10].head()"
   ]
  },
  {
   "cell_type": "code",
   "execution_count": 16,
   "metadata": {},
   "outputs": [
    {
     "data": {
      "text/plain": [
       "BIRTH_DATE\n",
       "1979-12-11 08:00:00    63\n",
       "1980-10-10 04:00:00    12\n",
       "1980-09-20 04:00:00     9\n",
       "1980-12-13 05:00:00     8\n",
       "1982-06-14 04:00:00     8\n",
       "                       ..\n",
       "1983-08-16 00:00:00     1\n",
       "1981-01-02 06:00:00     1\n",
       "1984-02-12 00:00:00     1\n",
       "1982-03-05 05:00:00     1\n",
       "1980-09-11 00:00:00     1\n",
       "Name: count, Length: 3818, dtype: int64"
      ]
     },
     "execution_count": 16,
     "metadata": {},
     "output_type": "execute_result"
    }
   ],
   "source": [
    "# The most common age is 40, check the BIRTH_DATE distribution for this age\n",
    "users[users[\"AGE\"] == 40][\"BIRTH_DATE\"].value_counts(dropna=False)"
   ]
  },
  {
   "cell_type": "code",
   "execution_count": 17,
   "metadata": {},
   "outputs": [
    {
     "data": {
      "text/html": [
       "<div>\n",
       "<style scoped>\n",
       "    .dataframe tbody tr th:only-of-type {\n",
       "        vertical-align: middle;\n",
       "    }\n",
       "\n",
       "    .dataframe tbody tr th {\n",
       "        vertical-align: top;\n",
       "    }\n",
       "\n",
       "    .dataframe thead th {\n",
       "        text-align: right;\n",
       "    }\n",
       "</style>\n",
       "<table border=\"1\" class=\"dataframe\">\n",
       "  <thead>\n",
       "    <tr style=\"text-align: right;\">\n",
       "      <th></th>\n",
       "      <th>ID</th>\n",
       "      <th>CREATED_DATE</th>\n",
       "      <th>BIRTH_DATE</th>\n",
       "      <th>STATE</th>\n",
       "      <th>LANGUAGE</th>\n",
       "      <th>GENDER</th>\n",
       "      <th>AGE</th>\n",
       "    </tr>\n",
       "  </thead>\n",
       "  <tbody>\n",
       "    <tr>\n",
       "      <th>913</th>\n",
       "      <td>5df1bc5e71190b120d006b3c</td>\n",
       "      <td>2019-12-12 04:04:47</td>\n",
       "      <td>1979-12-11 08:00:00</td>\n",
       "      <td>KS</td>\n",
       "      <td>NaN</td>\n",
       "      <td>male</td>\n",
       "      <td>40.0</td>\n",
       "    </tr>\n",
       "    <tr>\n",
       "      <th>957</th>\n",
       "      <td>5df1ae4d71190b120dfaa9c6</td>\n",
       "      <td>2019-12-12 03:04:46</td>\n",
       "      <td>1979-12-11 08:00:00</td>\n",
       "      <td>KS</td>\n",
       "      <td>NaN</td>\n",
       "      <td>male</td>\n",
       "      <td>40.0</td>\n",
       "    </tr>\n",
       "    <tr>\n",
       "      <th>1402</th>\n",
       "      <td>5df1c56371190b120d043bfe</td>\n",
       "      <td>2019-12-12 04:43:16</td>\n",
       "      <td>1979-12-11 08:00:00</td>\n",
       "      <td>KS</td>\n",
       "      <td>NaN</td>\n",
       "      <td>male</td>\n",
       "      <td>40.0</td>\n",
       "    </tr>\n",
       "    <tr>\n",
       "      <th>2214</th>\n",
       "      <td>5df1b08671190b120dfb791d</td>\n",
       "      <td>2019-12-12 03:14:14</td>\n",
       "      <td>1979-12-11 08:00:00</td>\n",
       "      <td>KS</td>\n",
       "      <td>NaN</td>\n",
       "      <td>male</td>\n",
       "      <td>40.0</td>\n",
       "    </tr>\n",
       "    <tr>\n",
       "      <th>2617</th>\n",
       "      <td>5df1aa9c73dd29121561707c</td>\n",
       "      <td>2019-12-12 02:49:00</td>\n",
       "      <td>1979-12-11 08:00:00</td>\n",
       "      <td>KS</td>\n",
       "      <td>NaN</td>\n",
       "      <td>male</td>\n",
       "      <td>40.0</td>\n",
       "    </tr>\n",
       "    <tr>\n",
       "      <th>...</th>\n",
       "      <td>...</td>\n",
       "      <td>...</td>\n",
       "      <td>...</td>\n",
       "      <td>...</td>\n",
       "      <td>...</td>\n",
       "      <td>...</td>\n",
       "      <td>...</td>\n",
       "    </tr>\n",
       "    <tr>\n",
       "      <th>90001</th>\n",
       "      <td>5df1a7da9549bd11d38c2b40</td>\n",
       "      <td>2019-12-12 02:37:14</td>\n",
       "      <td>1979-12-11 08:00:00</td>\n",
       "      <td>KS</td>\n",
       "      <td>NaN</td>\n",
       "      <td>male</td>\n",
       "      <td>40.0</td>\n",
       "    </tr>\n",
       "    <tr>\n",
       "      <th>94245</th>\n",
       "      <td>5df1aaebf8defb1201b0fb75</td>\n",
       "      <td>2019-12-12 02:50:20</td>\n",
       "      <td>1979-12-11 08:00:00</td>\n",
       "      <td>KS</td>\n",
       "      <td>NaN</td>\n",
       "      <td>male</td>\n",
       "      <td>40.0</td>\n",
       "    </tr>\n",
       "    <tr>\n",
       "      <th>96389</th>\n",
       "      <td>5df1a678e7454812d28dccb7</td>\n",
       "      <td>2019-12-12 02:31:21</td>\n",
       "      <td>1979-12-11 08:00:00</td>\n",
       "      <td>KS</td>\n",
       "      <td>NaN</td>\n",
       "      <td>male</td>\n",
       "      <td>40.0</td>\n",
       "    </tr>\n",
       "    <tr>\n",
       "      <th>96750</th>\n",
       "      <td>5df1ba3f71190b120dffaa0b</td>\n",
       "      <td>2019-12-12 03:55:43</td>\n",
       "      <td>1979-12-11 08:00:00</td>\n",
       "      <td>KS</td>\n",
       "      <td>NaN</td>\n",
       "      <td>male</td>\n",
       "      <td>40.0</td>\n",
       "    </tr>\n",
       "    <tr>\n",
       "      <th>98412</th>\n",
       "      <td>5df1c445077ad111c33e201f</td>\n",
       "      <td>2019-12-12 04:38:30</td>\n",
       "      <td>1979-12-11 08:00:00</td>\n",
       "      <td>KS</td>\n",
       "      <td>NaN</td>\n",
       "      <td>male</td>\n",
       "      <td>40.0</td>\n",
       "    </tr>\n",
       "  </tbody>\n",
       "</table>\n",
       "<p>63 rows × 7 columns</p>\n",
       "</div>"
      ],
      "text/plain": [
       "                             ID        CREATED_DATE          BIRTH_DATE STATE  \\\n",
       "913    5df1bc5e71190b120d006b3c 2019-12-12 04:04:47 1979-12-11 08:00:00    KS   \n",
       "957    5df1ae4d71190b120dfaa9c6 2019-12-12 03:04:46 1979-12-11 08:00:00    KS   \n",
       "1402   5df1c56371190b120d043bfe 2019-12-12 04:43:16 1979-12-11 08:00:00    KS   \n",
       "2214   5df1b08671190b120dfb791d 2019-12-12 03:14:14 1979-12-11 08:00:00    KS   \n",
       "2617   5df1aa9c73dd29121561707c 2019-12-12 02:49:00 1979-12-11 08:00:00    KS   \n",
       "...                         ...                 ...                 ...   ...   \n",
       "90001  5df1a7da9549bd11d38c2b40 2019-12-12 02:37:14 1979-12-11 08:00:00    KS   \n",
       "94245  5df1aaebf8defb1201b0fb75 2019-12-12 02:50:20 1979-12-11 08:00:00    KS   \n",
       "96389  5df1a678e7454812d28dccb7 2019-12-12 02:31:21 1979-12-11 08:00:00    KS   \n",
       "96750  5df1ba3f71190b120dffaa0b 2019-12-12 03:55:43 1979-12-11 08:00:00    KS   \n",
       "98412  5df1c445077ad111c33e201f 2019-12-12 04:38:30 1979-12-11 08:00:00    KS   \n",
       "\n",
       "      LANGUAGE GENDER   AGE  \n",
       "913        NaN   male  40.0  \n",
       "957        NaN   male  40.0  \n",
       "1402       NaN   male  40.0  \n",
       "2214       NaN   male  40.0  \n",
       "2617       NaN   male  40.0  \n",
       "...        ...    ...   ...  \n",
       "90001      NaN   male  40.0  \n",
       "94245      NaN   male  40.0  \n",
       "96389      NaN   male  40.0  \n",
       "96750      NaN   male  40.0  \n",
       "98412      NaN   male  40.0  \n",
       "\n",
       "[63 rows x 7 columns]"
      ]
     },
     "execution_count": 17,
     "metadata": {},
     "output_type": "execute_result"
    }
   ],
   "source": [
    "# In the case of 40 years old, there are 63 users with the same birth date: 1979-12-11. Check the data\n",
    "age_40_1979_12_11_check = users[(users[\"AGE\"] == 40) & (users[\"BIRTH_DATE\"].dt.date == dt.date(1979, 12, 11))]\n",
    "age_40_1979_12_11_check"
   ]
  },
  {
   "cell_type": "code",
   "execution_count": 18,
   "metadata": {},
   "outputs": [
    {
     "data": {
      "text/html": [
       "<div>\n",
       "<style scoped>\n",
       "    .dataframe tbody tr th:only-of-type {\n",
       "        vertical-align: middle;\n",
       "    }\n",
       "\n",
       "    .dataframe tbody tr th {\n",
       "        vertical-align: top;\n",
       "    }\n",
       "\n",
       "    .dataframe thead th {\n",
       "        text-align: right;\n",
       "    }\n",
       "</style>\n",
       "<table border=\"1\" class=\"dataframe\">\n",
       "  <thead>\n",
       "    <tr style=\"text-align: right;\">\n",
       "      <th></th>\n",
       "      <th>STATE</th>\n",
       "      <th>LANGUAGE</th>\n",
       "      <th>GENDER</th>\n",
       "    </tr>\n",
       "  </thead>\n",
       "  <tbody>\n",
       "    <tr>\n",
       "      <th>count</th>\n",
       "      <td>63</td>\n",
       "      <td>0</td>\n",
       "      <td>63</td>\n",
       "    </tr>\n",
       "    <tr>\n",
       "      <th>unique</th>\n",
       "      <td>1</td>\n",
       "      <td>0</td>\n",
       "      <td>1</td>\n",
       "    </tr>\n",
       "    <tr>\n",
       "      <th>top</th>\n",
       "      <td>KS</td>\n",
       "      <td>NaN</td>\n",
       "      <td>male</td>\n",
       "    </tr>\n",
       "    <tr>\n",
       "      <th>freq</th>\n",
       "      <td>63</td>\n",
       "      <td>NaN</td>\n",
       "      <td>63</td>\n",
       "    </tr>\n",
       "  </tbody>\n",
       "</table>\n",
       "</div>"
      ],
      "text/plain": [
       "       STATE LANGUAGE GENDER\n",
       "count     63        0     63\n",
       "unique     1        0      1\n",
       "top       KS      NaN   male\n",
       "freq      63      NaN     63"
      ]
     },
     "execution_count": 18,
     "metadata": {},
     "output_type": "execute_result"
    }
   ],
   "source": [
    "# The data is homogeneous, further check the distribution of STATE, LANGUAGE, and GENDER\n",
    "age_40_1979_12_11_check[[\"STATE\", \"LANGUAGE\", \"GENDER\"]].describe()\n",
    "\n",
    "# --> All 63 users have same STATE, LANGUAGE, and GENDER values."
   ]
  },
  {
   "cell_type": "code",
   "execution_count": 19,
   "metadata": {},
   "outputs": [
    {
     "data": {
      "text/plain": [
       "CREATED_DATE\n",
       "2019-12-12    63\n",
       "Name: count, dtype: int64"
      ]
     },
     "execution_count": 19,
     "metadata": {},
     "output_type": "execute_result"
    }
   ],
   "source": [
    "# Check the CREATED_DATE distribution\n",
    "age_40_1979_12_11_check[\"CREATED_DATE\"].dt.date.value_counts()\n",
    "\n",
    "# --> All 63 user accounts were created on the same day: 2019-12-12"
   ]
  },
  {
   "cell_type": "markdown",
   "metadata": {},
   "source": [
    "The `AGE` column displays anomalies, including the following:\n",
    "\n",
    "1. One entry has `CREATED_DATE` before `BIRTH_DATE`\n",
    "2. Unusually low or high values: There are instances of ages below 10 and above 100, which are likely due to data entry errors or outliers.\n",
    "\n",
    "    - **To ensure data accuracy, I suggest applying the following assumptions during cleaning:**\n",
    "        - Minimum age: 13, in alignment with regulations like COPPA for online platforms.\n",
    "        - Maximum age: 100, as ages exceeding this are likely erroneous in most datasets.\n",
    "\n",
    "2. Duplicate user records: At the age of 40, there are 63 users with the same birth date, 1979-12-12. Further investigation revealed that these users were all created on the same day, 2019-12-12, and share identical values for `STATE`, `LANGUAGE`, and `GENDER`. This indicates that the users were likely created in bulk. **I recommend removing these redundant records and retaining only one representative record for this user.**"
   ]
  },
  {
   "cell_type": "markdown",
   "metadata": {},
   "source": [
    "### `CREATED_DATE` column"
   ]
  },
  {
   "cell_type": "code",
   "execution_count": 20,
   "metadata": {},
   "outputs": [
    {
     "name": "stdout",
     "output_type": "stream",
     "text": [
      "count                           100000\n",
      "mean     2022-01-07 05:31:20.864859648\n",
      "min                2014-04-18 23:14:55\n",
      "25%                2020-12-01 21:16:19\n",
      "50%                2022-03-07 01:03:37\n",
      "75%         2023-01-30 13:47:44.500000\n",
      "max                2024-09-11 17:59:15\n",
      "Name: CREATED_DATE, dtype: object\n"
     ]
    },
    {
     "data": {
      "text/plain": [
       "CREATED_DATE\n",
       "2023-01-12 18:30:15    2\n",
       "2019-08-28 02:21:44    2\n",
       "2024-04-11 02:56:41    2\n",
       "2024-03-11 17:03:02    2\n",
       "2024-02-25 20:43:59    2\n",
       "                      ..\n",
       "2024-08-25 03:30:41    1\n",
       "2021-03-12 13:08:04    1\n",
       "2024-07-24 19:33:12    1\n",
       "2020-12-01 05:25:08    1\n",
       "2020-03-25 01:30:30    1\n",
       "Name: count, Length: 99942, dtype: int64"
      ]
     },
     "execution_count": 20,
     "metadata": {},
     "output_type": "execute_result"
    }
   ],
   "source": [
    "# Check the CREATED_DATE column distribution\n",
    "print(users[\"CREATED_DATE\"].describe())\n",
    "users[\"CREATED_DATE\"].value_counts(dropna=False)"
   ]
  },
  {
   "cell_type": "code",
   "execution_count": 21,
   "metadata": {},
   "outputs": [
    {
     "data": {
      "text/html": [
       "<div>\n",
       "<style scoped>\n",
       "    .dataframe tbody tr th:only-of-type {\n",
       "        vertical-align: middle;\n",
       "    }\n",
       "\n",
       "    .dataframe tbody tr th {\n",
       "        vertical-align: top;\n",
       "    }\n",
       "\n",
       "    .dataframe thead th {\n",
       "        text-align: right;\n",
       "    }\n",
       "</style>\n",
       "<table border=\"1\" class=\"dataframe\">\n",
       "  <thead>\n",
       "    <tr style=\"text-align: right;\">\n",
       "      <th></th>\n",
       "      <th>ID</th>\n",
       "      <th>CREATED_DATE</th>\n",
       "      <th>BIRTH_DATE</th>\n",
       "      <th>STATE</th>\n",
       "      <th>LANGUAGE</th>\n",
       "      <th>GENDER</th>\n",
       "      <th>AGE</th>\n",
       "    </tr>\n",
       "  </thead>\n",
       "  <tbody>\n",
       "  </tbody>\n",
       "</table>\n",
       "</div>"
      ],
      "text/plain": [
       "Empty DataFrame\n",
       "Columns: [ID, CREATED_DATE, BIRTH_DATE, STATE, LANGUAGE, GENDER, AGE]\n",
       "Index: []"
      ]
     },
     "execution_count": 21,
     "metadata": {},
     "output_type": "execute_result"
    }
   ],
   "source": [
    "# Check when CREATED_DATE is after today, which is not possible\n",
    "users[users[\"CREATED_DATE\"] > dt.datetime.now()]"
   ]
  },
  {
   "cell_type": "code",
   "execution_count": 22,
   "metadata": {},
   "outputs": [
    {
     "data": {
      "text/html": [
       "<div>\n",
       "<style scoped>\n",
       "    .dataframe tbody tr th:only-of-type {\n",
       "        vertical-align: middle;\n",
       "    }\n",
       "\n",
       "    .dataframe tbody tr th {\n",
       "        vertical-align: top;\n",
       "    }\n",
       "\n",
       "    .dataframe thead th {\n",
       "        text-align: right;\n",
       "    }\n",
       "</style>\n",
       "<table border=\"1\" class=\"dataframe\">\n",
       "  <thead>\n",
       "    <tr style=\"text-align: right;\">\n",
       "      <th></th>\n",
       "      <th>ID</th>\n",
       "      <th>CREATED_DATE</th>\n",
       "      <th>BIRTH_DATE</th>\n",
       "      <th>STATE</th>\n",
       "      <th>LANGUAGE</th>\n",
       "      <th>GENDER</th>\n",
       "      <th>AGE</th>\n",
       "    </tr>\n",
       "  </thead>\n",
       "  <tbody>\n",
       "    <tr>\n",
       "      <th>56335</th>\n",
       "      <td>5d61ec231ddc4058bd9a6233</td>\n",
       "      <td>2019-08-25 02:02:11</td>\n",
       "      <td>1972-06-07 00:00:00</td>\n",
       "      <td>VA</td>\n",
       "      <td>NaN</td>\n",
       "      <td>female</td>\n",
       "      <td>47.0</td>\n",
       "    </tr>\n",
       "    <tr>\n",
       "      <th>38211</th>\n",
       "      <td>5d61ec22fe79a7584c9b573c</td>\n",
       "      <td>2019-08-25 02:02:11</td>\n",
       "      <td>1975-08-12 05:00:00</td>\n",
       "      <td>AR</td>\n",
       "      <td>NaN</td>\n",
       "      <td>female</td>\n",
       "      <td>44.0</td>\n",
       "    </tr>\n",
       "    <tr>\n",
       "      <th>30543</th>\n",
       "      <td>5d65e5381ddc403b76f4dc72</td>\n",
       "      <td>2019-08-28 02:21:44</td>\n",
       "      <td>1975-05-15 00:00:00</td>\n",
       "      <td>NH</td>\n",
       "      <td>NaN</td>\n",
       "      <td>transgender</td>\n",
       "      <td>44.0</td>\n",
       "    </tr>\n",
       "    <tr>\n",
       "      <th>64789</th>\n",
       "      <td>5d65e537d09cf73c7b6a1585</td>\n",
       "      <td>2019-08-28 02:21:44</td>\n",
       "      <td>1990-10-15 05:00:00</td>\n",
       "      <td>MS</td>\n",
       "      <td>NaN</td>\n",
       "      <td>male</td>\n",
       "      <td>28.0</td>\n",
       "    </tr>\n",
       "    <tr>\n",
       "      <th>62448</th>\n",
       "      <td>5e153376128c2c120e86e57f</td>\n",
       "      <td>2020-01-08 01:42:14</td>\n",
       "      <td>1979-02-07 05:00:00</td>\n",
       "      <td>CT</td>\n",
       "      <td>NaN</td>\n",
       "      <td>female</td>\n",
       "      <td>40.0</td>\n",
       "    </tr>\n",
       "    <tr>\n",
       "      <th>...</th>\n",
       "      <td>...</td>\n",
       "      <td>...</td>\n",
       "      <td>...</td>\n",
       "      <td>...</td>\n",
       "      <td>...</td>\n",
       "      <td>...</td>\n",
       "      <td>...</td>\n",
       "    </tr>\n",
       "    <tr>\n",
       "      <th>30905</th>\n",
       "      <td>66e1d4eb7d6591145d46b11e</td>\n",
       "      <td>2024-09-11 17:35:39</td>\n",
       "      <td>2006-04-25 04:00:00</td>\n",
       "      <td>FL</td>\n",
       "      <td>NaN</td>\n",
       "      <td>female</td>\n",
       "      <td>18.0</td>\n",
       "    </tr>\n",
       "    <tr>\n",
       "      <th>16988</th>\n",
       "      <td>66e1d6727d6591145d46b16b</td>\n",
       "      <td>2024-09-11 17:42:10</td>\n",
       "      <td>2003-08-22 04:00:00</td>\n",
       "      <td>GA</td>\n",
       "      <td>NaN</td>\n",
       "      <td>prefer_not_to_say</td>\n",
       "      <td>21.0</td>\n",
       "    </tr>\n",
       "    <tr>\n",
       "      <th>30906</th>\n",
       "      <td>66e1d67287b8a35761d49a63</td>\n",
       "      <td>2024-09-11 17:42:10</td>\n",
       "      <td>1972-04-26 00:00:00</td>\n",
       "      <td>CA</td>\n",
       "      <td>NaN</td>\n",
       "      <td>female</td>\n",
       "      <td>52.0</td>\n",
       "    </tr>\n",
       "    <tr>\n",
       "      <th>48515</th>\n",
       "      <td>66e1d82a7d6591145d46b1ca</td>\n",
       "      <td>2024-09-11 17:49:30</td>\n",
       "      <td>1998-11-30 05:00:00</td>\n",
       "      <td>VA</td>\n",
       "      <td>NaN</td>\n",
       "      <td>female</td>\n",
       "      <td>25.0</td>\n",
       "    </tr>\n",
       "    <tr>\n",
       "      <th>81864</th>\n",
       "      <td>66e1d8297d6591145d46b1c8</td>\n",
       "      <td>2024-09-11 17:49:30</td>\n",
       "      <td>1972-12-09 00:00:00</td>\n",
       "      <td>MI</td>\n",
       "      <td>NaN</td>\n",
       "      <td>female</td>\n",
       "      <td>51.0</td>\n",
       "    </tr>\n",
       "  </tbody>\n",
       "</table>\n",
       "<p>116 rows × 7 columns</p>\n",
       "</div>"
      ],
      "text/plain": [
       "                             ID        CREATED_DATE          BIRTH_DATE STATE  \\\n",
       "56335  5d61ec231ddc4058bd9a6233 2019-08-25 02:02:11 1972-06-07 00:00:00    VA   \n",
       "38211  5d61ec22fe79a7584c9b573c 2019-08-25 02:02:11 1975-08-12 05:00:00    AR   \n",
       "30543  5d65e5381ddc403b76f4dc72 2019-08-28 02:21:44 1975-05-15 00:00:00    NH   \n",
       "64789  5d65e537d09cf73c7b6a1585 2019-08-28 02:21:44 1990-10-15 05:00:00    MS   \n",
       "62448  5e153376128c2c120e86e57f 2020-01-08 01:42:14 1979-02-07 05:00:00    CT   \n",
       "...                         ...                 ...                 ...   ...   \n",
       "30905  66e1d4eb7d6591145d46b11e 2024-09-11 17:35:39 2006-04-25 04:00:00    FL   \n",
       "16988  66e1d6727d6591145d46b16b 2024-09-11 17:42:10 2003-08-22 04:00:00    GA   \n",
       "30906  66e1d67287b8a35761d49a63 2024-09-11 17:42:10 1972-04-26 00:00:00    CA   \n",
       "48515  66e1d82a7d6591145d46b1ca 2024-09-11 17:49:30 1998-11-30 05:00:00    VA   \n",
       "81864  66e1d8297d6591145d46b1c8 2024-09-11 17:49:30 1972-12-09 00:00:00    MI   \n",
       "\n",
       "      LANGUAGE             GENDER   AGE  \n",
       "56335      NaN             female  47.0  \n",
       "38211      NaN             female  44.0  \n",
       "30543      NaN        transgender  44.0  \n",
       "64789      NaN               male  28.0  \n",
       "62448      NaN             female  40.0  \n",
       "...        ...                ...   ...  \n",
       "30905      NaN             female  18.0  \n",
       "16988      NaN  prefer_not_to_say  21.0  \n",
       "30906      NaN             female  52.0  \n",
       "48515      NaN             female  25.0  \n",
       "81864      NaN             female  51.0  \n",
       "\n",
       "[116 rows x 7 columns]"
      ]
     },
     "execution_count": 22,
     "metadata": {},
     "output_type": "execute_result"
    }
   ],
   "source": [
    "# Check the duplicated CREATED_DATE\n",
    "duplicate_created_date = users[users[\"CREATED_DATE\"].duplicated(keep=False)].sort_values(\"CREATED_DATE\")\n",
    "duplicate_created_date"
   ]
  },
  {
   "cell_type": "code",
   "execution_count": 23,
   "metadata": {},
   "outputs": [
    {
     "data": {
      "text/html": [
       "<div>\n",
       "<style scoped>\n",
       "    .dataframe tbody tr th:only-of-type {\n",
       "        vertical-align: middle;\n",
       "    }\n",
       "\n",
       "    .dataframe tbody tr th {\n",
       "        vertical-align: top;\n",
       "    }\n",
       "\n",
       "    .dataframe thead th {\n",
       "        text-align: right;\n",
       "    }\n",
       "</style>\n",
       "<table border=\"1\" class=\"dataframe\">\n",
       "  <thead>\n",
       "    <tr style=\"text-align: right;\">\n",
       "      <th></th>\n",
       "      <th>ID</th>\n",
       "      <th>BIRTH_DATE</th>\n",
       "      <th>STATE</th>\n",
       "      <th>LANGUAGE</th>\n",
       "      <th>GENDER</th>\n",
       "      <th>AGE</th>\n",
       "    </tr>\n",
       "    <tr>\n",
       "      <th>CREATED_DATE</th>\n",
       "      <th></th>\n",
       "      <th></th>\n",
       "      <th></th>\n",
       "      <th></th>\n",
       "      <th></th>\n",
       "      <th></th>\n",
       "    </tr>\n",
       "  </thead>\n",
       "  <tbody>\n",
       "    <tr>\n",
       "      <th>2019-08-25 02:02:11</th>\n",
       "      <td>2</td>\n",
       "      <td>2</td>\n",
       "      <td>2</td>\n",
       "      <td>0</td>\n",
       "      <td>1</td>\n",
       "      <td>2</td>\n",
       "    </tr>\n",
       "    <tr>\n",
       "      <th>2019-08-28 02:21:44</th>\n",
       "      <td>2</td>\n",
       "      <td>2</td>\n",
       "      <td>2</td>\n",
       "      <td>0</td>\n",
       "      <td>2</td>\n",
       "      <td>2</td>\n",
       "    </tr>\n",
       "    <tr>\n",
       "      <th>2020-01-08 01:42:14</th>\n",
       "      <td>2</td>\n",
       "      <td>2</td>\n",
       "      <td>1</td>\n",
       "      <td>0</td>\n",
       "      <td>1</td>\n",
       "      <td>2</td>\n",
       "    </tr>\n",
       "    <tr>\n",
       "      <th>2020-02-16 17:04:11</th>\n",
       "      <td>2</td>\n",
       "      <td>2</td>\n",
       "      <td>2</td>\n",
       "      <td>1</td>\n",
       "      <td>1</td>\n",
       "      <td>2</td>\n",
       "    </tr>\n",
       "    <tr>\n",
       "      <th>2020-04-29 02:24:48</th>\n",
       "      <td>2</td>\n",
       "      <td>2</td>\n",
       "      <td>2</td>\n",
       "      <td>1</td>\n",
       "      <td>1</td>\n",
       "      <td>2</td>\n",
       "    </tr>\n",
       "  </tbody>\n",
       "</table>\n",
       "</div>"
      ],
      "text/plain": [
       "                     ID  BIRTH_DATE  STATE  LANGUAGE  GENDER  AGE\n",
       "CREATED_DATE                                                     \n",
       "2019-08-25 02:02:11   2           2      2         0       1    2\n",
       "2019-08-28 02:21:44   2           2      2         0       2    2\n",
       "2020-01-08 01:42:14   2           2      1         0       1    2\n",
       "2020-02-16 17:04:11   2           2      2         1       1    2\n",
       "2020-04-29 02:24:48   2           2      2         1       1    2"
      ]
     },
     "execution_count": 23,
     "metadata": {},
     "output_type": "execute_result"
    }
   ],
   "source": [
    "# Check if the same CREATED_DATE has different values in other columns\n",
    "check_duplicate = duplicate_created_date.groupby(\"CREATED_DATE\").nunique()\n",
    "check_duplicate.head()"
   ]
  },
  {
   "cell_type": "code",
   "execution_count": 24,
   "metadata": {},
   "outputs": [
    {
     "data": {
      "text/html": [
       "<div>\n",
       "<style scoped>\n",
       "    .dataframe tbody tr th:only-of-type {\n",
       "        vertical-align: middle;\n",
       "    }\n",
       "\n",
       "    .dataframe tbody tr th {\n",
       "        vertical-align: top;\n",
       "    }\n",
       "\n",
       "    .dataframe thead th {\n",
       "        text-align: right;\n",
       "    }\n",
       "</style>\n",
       "<table border=\"1\" class=\"dataframe\">\n",
       "  <thead>\n",
       "    <tr style=\"text-align: right;\">\n",
       "      <th></th>\n",
       "      <th>ID</th>\n",
       "      <th>BIRTH_DATE</th>\n",
       "      <th>STATE</th>\n",
       "      <th>LANGUAGE</th>\n",
       "      <th>GENDER</th>\n",
       "      <th>AGE</th>\n",
       "    </tr>\n",
       "    <tr>\n",
       "      <th>CREATED_DATE</th>\n",
       "      <th></th>\n",
       "      <th></th>\n",
       "      <th></th>\n",
       "      <th></th>\n",
       "      <th></th>\n",
       "      <th></th>\n",
       "    </tr>\n",
       "  </thead>\n",
       "  <tbody>\n",
       "    <tr>\n",
       "      <th>2023-10-21 22:29:47</th>\n",
       "      <td>2</td>\n",
       "      <td>1</td>\n",
       "      <td>1</td>\n",
       "      <td>1</td>\n",
       "      <td>1</td>\n",
       "      <td>1</td>\n",
       "    </tr>\n",
       "  </tbody>\n",
       "</table>\n",
       "</div>"
      ],
      "text/plain": [
       "                     ID  BIRTH_DATE  STATE  LANGUAGE  GENDER  AGE\n",
       "CREATED_DATE                                                     \n",
       "2023-10-21 22:29:47   2           1      1         1       1    1"
      ]
     },
     "execution_count": 24,
     "metadata": {},
     "output_type": "execute_result"
    }
   ],
   "source": [
    "# Check the duplicated rows where all columns have only 1 unique value\n",
    "check_duplicate[(check_duplicate[\"BIRTH_DATE\"] == 1) & (check_duplicate[\"STATE\"] == 1) & (check_duplicate[\"LANGUAGE\"] == 1) & (check_duplicate[\"GENDER\"] == 1) & (check_duplicate[\"AGE\"] == 1)]"
   ]
  },
  {
   "cell_type": "code",
   "execution_count": 25,
   "metadata": {},
   "outputs": [
    {
     "data": {
      "text/html": [
       "<div>\n",
       "<style scoped>\n",
       "    .dataframe tbody tr th:only-of-type {\n",
       "        vertical-align: middle;\n",
       "    }\n",
       "\n",
       "    .dataframe tbody tr th {\n",
       "        vertical-align: top;\n",
       "    }\n",
       "\n",
       "    .dataframe thead th {\n",
       "        text-align: right;\n",
       "    }\n",
       "</style>\n",
       "<table border=\"1\" class=\"dataframe\">\n",
       "  <thead>\n",
       "    <tr style=\"text-align: right;\">\n",
       "      <th></th>\n",
       "      <th>ID</th>\n",
       "      <th>CREATED_DATE</th>\n",
       "      <th>BIRTH_DATE</th>\n",
       "      <th>STATE</th>\n",
       "      <th>LANGUAGE</th>\n",
       "      <th>GENDER</th>\n",
       "      <th>AGE</th>\n",
       "    </tr>\n",
       "  </thead>\n",
       "  <tbody>\n",
       "    <tr>\n",
       "      <th>3841</th>\n",
       "      <td>653450dba65d634c1c2a2679</td>\n",
       "      <td>2023-10-21 22:29:47</td>\n",
       "      <td>NaT</td>\n",
       "      <td>NaN</td>\n",
       "      <td>en</td>\n",
       "      <td>NaN</td>\n",
       "      <td>NaN</td>\n",
       "    </tr>\n",
       "    <tr>\n",
       "      <th>41633</th>\n",
       "      <td>653450dba65d634c1c2a2678</td>\n",
       "      <td>2023-10-21 22:29:47</td>\n",
       "      <td>2003-10-24 22:29:49</td>\n",
       "      <td>MA</td>\n",
       "      <td>en</td>\n",
       "      <td>female</td>\n",
       "      <td>20.0</td>\n",
       "    </tr>\n",
       "  </tbody>\n",
       "</table>\n",
       "</div>"
      ],
      "text/plain": [
       "                             ID        CREATED_DATE          BIRTH_DATE STATE  \\\n",
       "3841   653450dba65d634c1c2a2679 2023-10-21 22:29:47                 NaT   NaN   \n",
       "41633  653450dba65d634c1c2a2678 2023-10-21 22:29:47 2003-10-24 22:29:49    MA   \n",
       "\n",
       "      LANGUAGE  GENDER   AGE  \n",
       "3841        en     NaN   NaN  \n",
       "41633       en  female  20.0  "
      ]
     },
     "execution_count": 25,
     "metadata": {},
     "output_type": "execute_result"
    }
   ],
   "source": [
    "# Look at the data that has the same CREATED_DATE and 1 unique value in all columns\n",
    "users[users[\"CREATED_DATE\"] == \"2023-10-21 22:29:47\"]\n",
    "\n",
    "# --> One record has most of the columns as NaN, we can consider dropping this record if needed."
   ]
  },
  {
   "cell_type": "code",
   "execution_count": 26,
   "metadata": {},
   "outputs": [
    {
     "data": {
      "image/png": "[encoded data removed]",
      "text/plain": [
       "<Figure size 640x480 with 1 Axes>"
      ]
     },
     "metadata": {},
     "output_type": "display_data"
    },
    {
     "data": {
      "image/png": "[encoded data removed]",
      "text/plain": [
       "<Figure size 640x480 with 1 Axes>"
      ]
     },
     "metadata": {},
     "output_type": "display_data"
    },
    {
     "data": {
      "image/png": "[encoded data removed]",
      "text/plain": [
       "<Figure size 640x480 with 1 Axes>"
      ]
     },
     "metadata": {},
     "output_type": "display_data"
    },
    {
     "data": {
      "image/png": "[encoded data removed]",
      "text/plain": [
       "<Figure size 640x480 with 1 Axes>"
      ]
     },
     "metadata": {},
     "output_type": "display_data"
    }
   ],
   "source": [
    "# plot categorical histograms\n",
    "for col in categorical:\n",
    "    counts = users[col].value_counts().head(20)\n",
    "    ax = counts.plot(kind='bar')\n",
    "    for i, v in enumerate(counts):\n",
    "        ax.text(i - 0.2, v + counts.max()*0.01, str(v), color='black', fontsize=8)\n",
    "\n",
    "    plt.title(col)\n",
    "    plt.xlabel(col)\n",
    "    plt.ylabel('Counts')\n",
    "    ax.grid(True, axis='y', linestyle='--', which='major', color='grey', alpha=.25)\n",
    "    plt.show()"
   ]
  },
  {
   "cell_type": "markdown",
   "metadata": {},
   "source": [
    "### `GENDER` column"
   ]
  },
  {
   "cell_type": "code",
   "execution_count": 27,
   "metadata": {},
   "outputs": [
    {
     "name": "stdout",
     "output_type": "stream",
     "text": [
      "count      94108\n",
      "unique        11\n",
      "top       female\n",
      "freq       64240\n",
      "Name: GENDER, dtype: object\n"
     ]
    },
    {
     "data": {
      "text/plain": [
       "GENDER\n",
       "female                    64240\n",
       "male                      25829\n",
       "NaN                        5892\n",
       "transgender                1772\n",
       "prefer_not_to_say          1350\n",
       "non_binary                  473\n",
       "unknown                     196\n",
       "not_listed                  180\n",
       "Non-Binary                   34\n",
       "not_specified                28\n",
       "My gender isn't listed        5\n",
       "Prefer not to say             1\n",
       "Name: count, dtype: int64"
      ]
     },
     "execution_count": 27,
     "metadata": {},
     "output_type": "execute_result"
    }
   ],
   "source": [
    "# Check the GENDER column distribution\n",
    "print(users[\"GENDER\"].describe())\n",
    "users[\"GENDER\"].value_counts(dropna=False)"
   ]
  },
  {
   "cell_type": "markdown",
   "metadata": {},
   "source": [
    "The `GENDER` column contains inconsistent labeling of categories, such as \"non_binary\" vs. \"Non-Binary\" and \"not_listed\" vs. \"My gender isn't listed,\" which may lead to misrepresentation of the gender data. **I recommend standardizing the labels to improve clarity and accuracy.**"
   ]
  },
  {
   "cell_type": "code",
   "execution_count": 28,
   "metadata": {},
   "outputs": [],
   "source": [
    "# Data Cleaning\n",
    "# Standardize the labels\n",
    "users['GENDER'] = users['GENDER'].replace(\"My gender isn't listed\", \"not_listed\")\n",
    "users['GENDER'] = users['GENDER'].replace(\"Prefer not to say\", \"prefer_not_to_say\")\n",
    "users['GENDER'] = users['GENDER'].replace(\"Non-Binary\", \"non_binary\")"
   ]
  },
  {
   "cell_type": "code",
   "execution_count": 29,
   "metadata": {},
   "outputs": [
    {
     "name": "stdout",
     "output_type": "stream",
     "text": [
      "GENDER\n",
      "female               64.24%\n",
      "male                 25.83%\n",
      "NaN                   5.89%\n",
      "transgender           1.77%\n",
      "prefer_not_to_say     1.35%\n",
      "non_binary            0.51%\n",
      "unknown               0.20%\n",
      "not_listed            0.18%\n",
      "not_specified         0.03%\n",
      "Name: count, dtype: object\n"
     ]
    }
   ],
   "source": [
    "# calculate the frequency of each level in the column\n",
    "freq_gender = 100*(users[\"GENDER\"].value_counts(dropna=False)/len(users[\"GENDER\"]))\n",
    "print(freq_gender.map(\"{:.2f}%\".format))"
   ]
  },
  {
   "cell_type": "markdown",
   "metadata": {},
   "source": [
    "The dataset shows a dominant gender of female, which may introduce bias and affect the validity of future analyses. Further decision-making is needed on how to address this bias."
   ]
  },
  {
   "cell_type": "markdown",
   "metadata": {},
   "source": [
    "### `ID` column"
   ]
  },
  {
   "cell_type": "code",
   "execution_count": 30,
   "metadata": {},
   "outputs": [
    {
     "name": "stdout",
     "output_type": "stream",
     "text": [
      "count                       100000\n",
      "unique                      100000\n",
      "top       5ef3b4f17053ab141787697d\n",
      "freq                             1\n",
      "Name: ID, dtype: object\n"
     ]
    },
    {
     "data": {
      "text/plain": [
       "ID\n",
       "5ef3b4f17053ab141787697d    1\n",
       "5f889d85746cfc1620c10130    1\n",
       "5dc6eb9192ad0e12e283bcb2    1\n",
       "5f1de98e57441c14b826b270    1\n",
       "5efe2d8d6e0151146c9a31bc    1\n",
       "                           ..\n",
       "66caa561ceb005043d74acf3    1\n",
       "604b67b40134cc12de1361fb    1\n",
       "66a156f8465f309038b30946    1\n",
       "5fc5d3b4a071f3282e52f0c6    1\n",
       "5e7ab436905e9512ff44abc8    1\n",
       "Name: count, Length: 100000, dtype: int64"
      ]
     },
     "execution_count": 30,
     "metadata": {},
     "output_type": "execute_result"
    }
   ],
   "source": [
    "# Check the ID column distribution\n",
    "print(users[\"ID\"].describe())\n",
    "users[\"ID\"].value_counts(dropna=False)"
   ]
  },
  {
   "cell_type": "markdown",
   "metadata": {},
   "source": [
    "### `STATE` column"
   ]
  },
  {
   "cell_type": "code",
   "execution_count": 31,
   "metadata": {},
   "outputs": [
    {
     "name": "stdout",
     "output_type": "stream",
     "text": [
      "count     95188\n",
      "unique       52\n",
      "top          TX\n",
      "freq       9028\n",
      "Name: STATE, dtype: object\n"
     ]
    },
    {
     "data": {
      "text/plain": [
       "STATE\n",
       "TX     9028\n",
       "FL     8921\n",
       "CA     8589\n",
       "NY     5703\n",
       "NaN    4812\n",
       "IL     3794\n",
       "GA     3718\n",
       "PA     3644\n",
       "OH     3519\n",
       "NC     3399\n",
       "NJ     2899\n",
       "MI     2582\n",
       "VA     2400\n",
       "IN     2213\n",
       "TN     2165\n",
       "AL     1792\n",
       "SC     1773\n",
       "KY     1731\n",
       "AZ     1728\n",
       "MO     1652\n",
       "MD     1636\n",
       "MA     1523\n",
       "WI     1389\n",
       "PR     1361\n",
       "LA     1290\n",
       "WA     1234\n",
       "CO     1139\n",
       "MN     1125\n",
       "CT     1110\n",
       "OK     1100\n",
       "AR     1011\n",
       "MS      960\n",
       "IA      933\n",
       "NV      837\n",
       "KS      835\n",
       "OR      700\n",
       "WV      674\n",
       "UT      593\n",
       "DE      492\n",
       "NE      487\n",
       "NM      452\n",
       "ME      368\n",
       "NH      359\n",
       "HI      350\n",
       "ID      350\n",
       "AK      297\n",
       "RI      284\n",
       "DC      241\n",
       "SD      205\n",
       "ND      185\n",
       "MT      169\n",
       "WY      138\n",
       "VT      111\n",
       "Name: count, dtype: int64"
      ]
     },
     "execution_count": 31,
     "metadata": {},
     "output_type": "execute_result"
    }
   ],
   "source": [
    "# Check the STATE column distribution\n",
    "print(users[\"STATE\"].describe())\n",
    "users[\"STATE\"].value_counts(dropna=False)"
   ]
  },
  {
   "cell_type": "code",
   "execution_count": 32,
   "metadata": {},
   "outputs": [
    {
     "name": "stdout",
     "output_type": "stream",
     "text": [
      "STATE\n",
      "TX     9.03%\n",
      "FL     8.92%\n",
      "CA     8.59%\n",
      "NY     5.70%\n",
      "NaN    4.81%\n",
      "IL     3.79%\n",
      "GA     3.72%\n",
      "PA     3.64%\n",
      "OH     3.52%\n",
      "NC     3.40%\n",
      "NJ     2.90%\n",
      "MI     2.58%\n",
      "VA     2.40%\n",
      "IN     2.21%\n",
      "TN     2.17%\n",
      "AL     1.79%\n",
      "SC     1.77%\n",
      "KY     1.73%\n",
      "AZ     1.73%\n",
      "MO     1.65%\n",
      "MD     1.64%\n",
      "MA     1.52%\n",
      "WI     1.39%\n",
      "PR     1.36%\n",
      "LA     1.29%\n",
      "WA     1.23%\n",
      "CO     1.14%\n",
      "MN     1.12%\n",
      "CT     1.11%\n",
      "OK     1.10%\n",
      "AR     1.01%\n",
      "MS     0.96%\n",
      "IA     0.93%\n",
      "NV     0.84%\n",
      "KS     0.83%\n",
      "OR     0.70%\n",
      "WV     0.67%\n",
      "UT     0.59%\n",
      "DE     0.49%\n",
      "NE     0.49%\n",
      "NM     0.45%\n",
      "ME     0.37%\n",
      "NH     0.36%\n",
      "HI     0.35%\n",
      "ID     0.35%\n",
      "AK     0.30%\n",
      "RI     0.28%\n",
      "DC     0.24%\n",
      "SD     0.21%\n",
      "ND     0.18%\n",
      "MT     0.17%\n",
      "WY     0.14%\n",
      "VT     0.11%\n",
      "Name: count, dtype: object\n"
     ]
    }
   ],
   "source": [
    "# calculate the frequency of each level in the column\n",
    "freq_state = 100*(users[\"STATE\"].value_counts(dropna=False)/len(users[\"STATE\"]))\n",
    "print(freq_state.map(\"{:.2f}%\".format))"
   ]
  },
  {
   "cell_type": "markdown",
   "metadata": {},
   "source": [
    "### `LANGUAGE` column"
   ]
  },
  {
   "cell_type": "code",
   "execution_count": 33,
   "metadata": {},
   "outputs": [
    {
     "name": "stdout",
     "output_type": "stream",
     "text": [
      "count     69492\n",
      "unique        2\n",
      "top          en\n",
      "freq      63403\n",
      "Name: LANGUAGE, dtype: object\n"
     ]
    },
    {
     "data": {
      "text/plain": [
       "LANGUAGE\n",
       "en        63403\n",
       "NaN       30508\n",
       "es-419     6089\n",
       "Name: count, dtype: int64"
      ]
     },
     "execution_count": 33,
     "metadata": {},
     "output_type": "execute_result"
    }
   ],
   "source": [
    "# Check the LANGUAGE column distribution\n",
    "print(users[\"LANGUAGE\"].describe())\n",
    "users[\"LANGUAGE\"].value_counts(dropna=False)"
   ]
  },
  {
   "cell_type": "code",
   "execution_count": 34,
   "metadata": {},
   "outputs": [
    {
     "name": "stdout",
     "output_type": "stream",
     "text": [
      "LANGUAGE\n",
      "en        63.40%\n",
      "NaN       30.51%\n",
      "es-419     6.09%\n",
      "Name: count, dtype: object\n"
     ]
    }
   ],
   "source": [
    "# calculate the frequency of each level in the column\n",
    "freq_lan = 100*(users[\"LANGUAGE\"].value_counts(dropna=False)/len(users[\"LANGUAGE\"]))\n",
    "print(freq_lan.map(\"{:.2f}%\".format))"
   ]
  },
  {
   "cell_type": "markdown",
   "metadata": {},
   "source": [
    "The dataset shows a dominant language of 'en', which may introduce bias and affect the validity of future analyses. Further decision-making is needed on how to address this bias."
   ]
  },
  {
   "cell_type": "markdown",
   "metadata": {},
   "source": [
    "## In conclusion, the major data quality issues identified are as follows:\n",
    "\n",
    "1. Missing values in `LANGUAGE` (30.5%), `GENDER` (5.9%), `STATE` (4.8%), and `BIRTH_DATE` (3.7%): Further discussion is needed to determine how to handle these missing values.\n",
    "\n",
    "2. The most common `BIRTH_DATE` is 1970-01-01, which appears to be the Unix epoch date, likely used as a default for missing data: It is recommended to replace these with `NaN`.\n",
    "\n",
    "3. Over 60% of `BIRTH_DATE` entries include time values (hours, minutes, and seconds), which is inconsistent with the app's registration input: Clarification is needed, and I recommend truncating the time component to retain only the date.\n",
    "\n",
    "4. Unusually low or high ages, including ages below 13 (with one record where `CREATED_DATE` is before `BIRTH_DATE`) and above 100: It is recommended to apply assumptions for minimum and maximum age limits to ensure data accuracy.\n",
    "\n",
    "5. For the most common age, 40, there are 63 users with the same birth date, 1979-12-12, and identical values in other columns: These records are likely bulk entries. It is recommended to keep only one representative record per user.\n",
    "\n",
    "6. The `GENDER` column contains inconsistent labeling, such as \"non_binary\" vs. \"Non-Binary\" and \"not_listed\" vs. \"My gender isn't listed,\" which could lead to misrepresentation of the gender data: It is recommended to standardize the labels to improve clarity and accuracy.\n",
    "\n",
    "7. Dominant categories in `LANGUAGE` (63.4% en) and `GENDER` (64.2% female) may introduce bias: Further discussion is needed to address this bias."
   ]
  },
  {
   "cell_type": "markdown",
   "metadata": {},
   "source": []
  }
 ],
 "metadata": {
  "kernelspec": {
   "display_name": "Python 3",
   "language": "python",
   "name": "python3"
  },
  "language_info": {
   "codemirror_mode": {
    "name": "ipython",
    "version": 3
   },
   "file_extension": ".py",
   "mimetype": "text/x-python",
   "name": "python",
   "nbconvert_exporter": "python",
   "pygments_lexer": "ipython3",
   "version": "3.11.4"
  },
  "orig_nbformat": 4
 },
 "nbformat": 4,
 "nbformat_minor": 2
}
